{
 "cells": [
  {
   "cell_type": "markdown",
   "metadata": {},
   "source": [
    "### Cross Validations Techniques\n",
    "https://www.youtube.com/watch?v=7062skdX05Y"
   ]
  },
  {
   "cell_type": "code",
   "execution_count": null,
   "metadata": {},
   "outputs": [],
   "source": [
    "import pandas as pd\n",
    "df=pd.read_csv('../input/breast-cancer/cancer_dataset.csv')\n",
    "df.head()\n",
    "#df.shape"
   ]
  },
  {
   "cell_type": "code",
   "execution_count": null,
   "metadata": {
    "execution": {
     "iopub.execute_input": "2022-03-29T18:51:47.973981Z",
     "iopub.status.busy": "2022-03-29T18:51:47.973707Z",
     "iopub.status.idle": "2022-03-29T18:51:47.979208Z",
     "shell.execute_reply": "2022-03-29T18:51:47.97825Z",
     "shell.execute_reply.started": "2022-03-29T18:51:47.973952Z"
    }
   },
   "outputs": [],
   "source": [
    "###  Independent And dependent features\n",
    "X=df.iloc[:,2:]\n",
    "y=df.iloc[:,1]"
   ]
  },
  {
   "cell_type": "code",
   "execution_count": null,
   "metadata": {
    "execution": {
     "iopub.execute_input": "2022-03-29T18:52:23.217252Z",
     "iopub.status.busy": "2022-03-29T18:52:23.216711Z",
     "iopub.status.idle": "2022-03-29T18:52:23.245641Z",
     "shell.execute_reply": "2022-03-29T18:52:23.245001Z",
     "shell.execute_reply.started": "2022-03-29T18:52:23.217219Z"
    }
   },
   "outputs": [],
   "source": [
    "X.head()"
   ]
  },
  {
   "cell_type": "code",
   "execution_count": null,
   "metadata": {
    "execution": {
     "iopub.execute_input": "2022-03-29T18:53:02.076815Z",
     "iopub.status.busy": "2022-03-29T18:53:02.07642Z",
     "iopub.status.idle": "2022-03-29T18:53:02.083289Z",
     "shell.execute_reply": "2022-03-29T18:53:02.082636Z",
     "shell.execute_reply.started": "2022-03-29T18:53:02.076786Z"
    }
   },
   "outputs": [],
   "source": [
    "y.head()"
   ]
  },
  {
   "cell_type": "code",
   "execution_count": null,
   "metadata": {
    "execution": {
     "iopub.execute_input": "2022-03-29T18:54:52.375753Z",
     "iopub.status.busy": "2022-03-29T18:54:52.375349Z",
     "iopub.status.idle": "2022-03-29T18:54:52.382339Z",
     "shell.execute_reply": "2022-03-29T18:54:52.381397Z",
     "shell.execute_reply.started": "2022-03-29T18:54:52.375725Z"
    }
   },
   "outputs": [],
   "source": [
    "X=X.dropna(axis=1)"
   ]
  },
  {
   "cell_type": "code",
   "execution_count": null,
   "metadata": {
    "execution": {
     "iopub.execute_input": "2022-03-29T18:54:56.671057Z",
     "iopub.status.busy": "2022-03-29T18:54:56.670757Z",
     "iopub.status.idle": "2022-03-29T18:54:56.702841Z",
     "shell.execute_reply": "2022-03-29T18:54:56.701878Z",
     "shell.execute_reply.started": "2022-03-29T18:54:56.671028Z"
    }
   },
   "outputs": [],
   "source": [
    "X.head()"
   ]
  },
  {
   "cell_type": "code",
   "execution_count": null,
   "metadata": {
    "execution": {
     "iopub.execute_input": "2022-03-29T18:55:04.377219Z",
     "iopub.status.busy": "2022-03-29T18:55:04.376423Z",
     "iopub.status.idle": "2022-03-29T18:55:04.384357Z",
     "shell.execute_reply": "2022-03-29T18:55:04.383362Z",
     "shell.execute_reply.started": "2022-03-29T18:55:04.377183Z"
    }
   },
   "outputs": [],
   "source": [
    "y.value_counts()"
   ]
  },
  {
   "cell_type": "markdown",
   "metadata": {},
   "source": [
    "### HoldOut Validation Approach- Train And Test Split"
   ]
  },
  {
   "cell_type": "code",
   "execution_count": null,
   "metadata": {
    "execution": {
     "iopub.execute_input": "2022-03-29T18:55:21.868726Z",
     "iopub.status.busy": "2022-03-29T18:55:21.867759Z",
     "iopub.status.idle": "2022-03-29T18:55:21.889203Z",
     "shell.execute_reply": "2022-03-29T18:55:21.888562Z",
     "shell.execute_reply.started": "2022-03-29T18:55:21.868679Z"
    }
   },
   "outputs": [],
   "source": [
    "from sklearn.tree import DecisionTreeClassifier\n",
    "from sklearn.model_selection import train_test_split\n",
    "X_train, X_test, y_train, y_test = train_test_split(X, y, test_size=0.30, random_state=4)\n",
    "model = DecisionTreeClassifier()\n",
    "model.fit(X_train, y_train)\n",
    "result = model.score(X_test, y_test)\n",
    "print(result)"
   ]
  },
  {
   "cell_type": "markdown",
   "metadata": {},
   "source": [
    "### K Fold Cross Validation"
   ]
  },
  {
   "cell_type": "code",
   "execution_count": null,
   "metadata": {
    "execution": {
     "iopub.execute_input": "2022-03-29T18:57:53.516749Z",
     "iopub.status.busy": "2022-03-29T18:57:53.516473Z",
     "iopub.status.idle": "2022-03-29T18:57:53.521766Z",
     "shell.execute_reply": "2022-03-29T18:57:53.520738Z",
     "shell.execute_reply.started": "2022-03-29T18:57:53.516719Z"
    }
   },
   "outputs": [],
   "source": [
    "from sklearn.model_selection import KFold\n",
    "model=DecisionTreeClassifier()\n",
    "kfold_validation=KFold(10)\n"
   ]
  },
  {
   "cell_type": "code",
   "execution_count": null,
   "metadata": {
    "execution": {
     "iopub.execute_input": "2022-03-29T18:57:56.700609Z",
     "iopub.status.busy": "2022-03-29T18:57:56.700323Z",
     "iopub.status.idle": "2022-03-29T18:57:56.84973Z",
     "shell.execute_reply": "2022-03-29T18:57:56.848563Z",
     "shell.execute_reply.started": "2022-03-29T18:57:56.700581Z"
    }
   },
   "outputs": [],
   "source": [
    "import numpy as np\n",
    "from sklearn.model_selection import cross_val_score\n",
    "results=cross_val_score(model,X,y,cv=kfold_validation)\n",
    "print(results)\n",
    "print(np.mean(results))"
   ]
  },
  {
   "cell_type": "markdown",
   "metadata": {},
   "source": [
    "### Stratified K-fold Cross Validation"
   ]
  },
  {
   "cell_type": "code",
   "execution_count": null,
   "metadata": {
    "execution": {
     "iopub.execute_input": "2022-03-29T18:59:32.152915Z",
     "iopub.status.busy": "2022-03-29T18:59:32.152225Z",
     "iopub.status.idle": "2022-03-29T18:59:32.296773Z",
     "shell.execute_reply": "2022-03-29T18:59:32.29575Z",
     "shell.execute_reply.started": "2022-03-29T18:59:32.15288Z"
    }
   },
   "outputs": [],
   "source": [
    "from sklearn.model_selection import StratifiedKFold\n",
    "skfold=StratifiedKFold(n_splits=10)\n",
    "model=DecisionTreeClassifier()\n",
    "scores=cross_val_score(model,X,y,cv=skfold)\n",
    "print(np.mean(scores))"
   ]
  },
  {
   "cell_type": "code",
   "execution_count": null,
   "metadata": {},
   "outputs": [],
   "source": [
    "scores"
   ]
  },
  {
   "cell_type": "markdown",
   "metadata": {},
   "source": [
    "### Leave One Out Cross Validation(LOOCV)"
   ]
  },
  {
   "cell_type": "code",
   "execution_count": null,
   "metadata": {
    "execution": {
     "iopub.execute_input": "2022-03-29T19:06:46.309805Z",
     "iopub.status.busy": "2022-03-29T19:06:46.309364Z",
     "iopub.status.idle": "2022-03-29T19:06:54.637277Z",
     "shell.execute_reply": "2022-03-29T19:06:54.636356Z",
     "shell.execute_reply.started": "2022-03-29T19:06:46.309773Z"
    }
   },
   "outputs": [],
   "source": [
    "from sklearn.model_selection import LeaveOneOut\n",
    "model=DecisionTreeClassifier()\n",
    "leave_validation=LeaveOneOut()\n",
    "results=cross_val_score(model,X,y,cv=leave_validation)\n",
    "results"
   ]
  },
  {
   "cell_type": "code",
   "execution_count": null,
   "metadata": {
    "execution": {
     "iopub.execute_input": "2022-03-29T19:00:31.179465Z",
     "iopub.status.busy": "2022-03-29T19:00:31.178608Z",
     "iopub.status.idle": "2022-03-29T19:00:31.184599Z",
     "shell.execute_reply": "2022-03-29T19:00:31.18359Z",
     "shell.execute_reply.started": "2022-03-29T19:00:31.179425Z"
    }
   },
   "outputs": [],
   "source": [
    "print(np.mean(results))"
   ]
  },
  {
   "cell_type": "markdown",
   "metadata": {},
   "source": [
    "### Repeated Random Test-Train Splits\n",
    "This technique is a hybrid of traditional train-test splitting and the k-fold cross-validation method. In this technique, we create random splits of the data in the training-test set manner and then repeat the process of splitting and evaluating the algorithm multiple times, just like the cross-validation method."
   ]
  },
  {
   "cell_type": "code",
   "execution_count": null,
   "metadata": {
    "execution": {
     "iopub.execute_input": "2022-03-29T19:35:00.693382Z",
     "iopub.status.busy": "2022-03-29T19:35:00.693069Z",
     "iopub.status.idle": "2022-03-29T19:35:00.815916Z",
     "shell.execute_reply": "2022-03-29T19:35:00.814912Z",
     "shell.execute_reply.started": "2022-03-29T19:35:00.69335Z"
    }
   },
   "outputs": [],
   "source": [
    "from sklearn.model_selection import ShuffleSplit\n",
    "model=DecisionTreeClassifier()\n",
    "ssplit=ShuffleSplit(n_splits=10,test_size=0.30)\n",
    "results=cross_val_score(model,X,y,cv=ssplit)\n",
    "results"
   ]
  },
  {
   "cell_type": "code",
   "execution_count": null,
   "metadata": {
    "execution": {
     "iopub.execute_input": "2022-03-29T19:08:06.960263Z",
     "iopub.status.busy": "2022-03-29T19:08:06.959992Z",
     "iopub.status.idle": "2022-03-29T19:08:06.966454Z",
     "shell.execute_reply": "2022-03-29T19:08:06.965499Z",
     "shell.execute_reply.started": "2022-03-29T19:08:06.960234Z"
    }
   },
   "outputs": [],
   "source": [
    "np.mean(results)"
   ]
  },
  {
   "cell_type": "code",
   "execution_count": null,
   "metadata": {},
   "outputs": [],
   "source": []
  }
 ],
 "metadata": {
  "kernelspec": {
   "display_name": "Python 3 (ipykernel)",
   "language": "python",
   "name": "python3"
  },
  "language_info": {
   "codemirror_mode": {
    "name": "ipython",
    "version": 3
   },
   "file_extension": ".py",
   "mimetype": "text/x-python",
   "name": "python",
   "nbconvert_exporter": "python",
   "pygments_lexer": "ipython3",
   "version": "3.8.8"
  }
 },
 "nbformat": 4,
 "nbformat_minor": 4
}
